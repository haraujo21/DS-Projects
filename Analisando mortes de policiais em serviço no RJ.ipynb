{
  "nbformat": 4,
  "nbformat_minor": 0,
  "metadata": {
    "colab": {
      "name": "[Template] Analisando a Violência no Rio de Janeiro.ipynb",
      "provenance": [],
      "collapsed_sections": [],
      "toc_visible": true,
      "include_colab_link": true
    },
    "kernelspec": {
      "name": "python3",
      "display_name": "Python 3"
    }
  },
  "cells": [
    {
      "cell_type": "markdown",
      "metadata": {
        "id": "view-in-github",
        "colab_type": "text"
      },
      "source": [
        "<a href=\"https://colab.research.google.com/github/haraujo21/DS-Projects/blob/haraujo21-patch-1/Analisando%20mortes%20de%20policiais%20em%20servi%C3%A7o%20no%20RJ.ipynb\" target=\"_parent\"><img src=\"https://colab.research.google.com/assets/colab-badge.svg\" alt=\"Open In Colab\"/></a>"
      ]
    },
    {
      "cell_type": "markdown",
      "metadata": {
        "id": "kLI0gJtzDGuQ"
      },
      "source": [
        "# Analisando os dados de Policias mortos em serviço no Rio de Janeiro\n",
        "\n",
        "Quinta-feira, 06/05/2021, tivemos a operação mais letal da história no Rio de Janeiro. A operação policial terminou com 28 mortos em Jacarezinho, Zona Norte do Rio, entre eles o policial André Leonardo de Mello Frias. Ultimamente essas operações tem causado bastante comentários nas redes sociais. Neste projeto, faremos uma análise em cima dos indicadores estatísticos dos policiais mortos no desde 01/2003 Rio, explorando algumas das variáveis fornecidas."
      ]
    },
    {
      "cell_type": "markdown",
      "metadata": {
        "id": "0zxQHhIUDF_2"
      },
      "source": [
        "## Obtenção dos Dados\n",
        "\n",
        "\n",
        "Os dados foram obtidos diretamento do portal ISPDados, que é uma página de Dados Abertos do Instituto de Segurança Pública do Rio de Janeiro.\n",
        "\n",
        "Disponibilizado em: [IPS Dados Abertos](http://www.ispdados.rj.gov.br/estatistica.html)"
      ]
    },
    {
      "cell_type": "markdown",
      "metadata": {
        "id": "7vh4at0l90nr"
      },
      "source": [
        "### Importando os dados\n",
        "\n",
        "Importe os dados, usando `df = pd.read_csv(\"endereço_do_csv\")`"
      ]
    },
    {
      "cell_type": "code",
      "metadata": {
        "id": "CYLNme_OCX_R"
      },
      "source": [
        "import pandas as pd\n",
        "import numpy as np\n",
        "\n",
        "df = pd.read_csv('https://raw.githubusercontent.com/haraujo21/DS-Projects/main/PoliciaisMortos.csv', sep = ';')"
      ],
      "execution_count": 6,
      "outputs": []
    },
    {
      "cell_type": "markdown",
      "metadata": {
        "id": "qb5By2nIMS6m"
      },
      "source": [
        "## Análise Inicial dos Dados\n",
        "\n",
        "Antes de começarmos a análise, vamos verificar as dimensões dos nossos dados:\n"
      ]
    },
    {
      "cell_type": "code",
      "metadata": {
        "colab": {
          "base_uri": "https://localhost:8080/"
        },
        "id": "nwWK0orMhJdT",
        "outputId": "55b35b59-8a5e-4b32-f552-34c92b8de858"
      },
      "source": [
        "# verificar o tamanho do DataFrame\n",
        "print(\"Variáveis: \", df.shape[1])\n",
        "print(\"Entradas: \", df.shape[0])"
      ],
      "execution_count": 7,
      "outputs": [
        {
          "output_type": "stream",
          "text": [
            "Variáveis:  5\n",
            "Entradas:  29368\n"
          ],
          "name": "stdout"
        }
      ]
    },
    {
      "cell_type": "markdown",
      "metadata": {
        "id": "YeiCxfBchZ3v"
      },
      "source": [
        "Em seguida, vamos analisar as variáveis existente em nosso dataset:"
      ]
    },
    {
      "cell_type": "code",
      "metadata": {
        "colab": {
          "base_uri": "https://localhost:8080/"
        },
        "id": "EwzVO1AyhZey",
        "outputId": "7f5ca546-0077-422c-dc8c-d8caf799583f"
      },
      "source": [
        "# imprimir os nomes das colunas\n",
        "df.columns"
      ],
      "execution_count": 8,
      "outputs": [
        {
          "output_type": "execute_result",
          "data": {
            "text/plain": [
              "Index(['CISP', 'mes', 'vano', 'pol_militares_mortos_serv',\n",
              "       'pol_civis_mortos_serv'],\n",
              "      dtype='object')"
            ]
          },
          "metadata": {
            "tags": []
          },
          "execution_count": 8
        }
      ]
    },
    {
      "cell_type": "code",
      "metadata": {
        "id": "Vo-xlJdEiX6N"
      },
      "source": [
        "Analisando os tipos de variáveis presentes em nosso dataset:"
      ],
      "execution_count": null,
      "outputs": []
    },
    {
      "cell_type": "code",
      "metadata": {
        "colab": {
          "base_uri": "https://localhost:8080/"
        },
        "id": "GlVR1z6vi8BV",
        "outputId": "6849d185-b82a-44d3-8bf2-51fc547a4064"
      },
      "source": [
        "# ver os tipos das variáveis\n",
        "df.dtypes"
      ],
      "execution_count": 9,
      "outputs": [
        {
          "output_type": "execute_result",
          "data": {
            "text/plain": [
              "CISP                         int64\n",
              "mes                          int64\n",
              "vano                         int64\n",
              "pol_militares_mortos_serv    int64\n",
              "pol_civis_mortos_serv        int64\n",
              "dtype: object"
            ]
          },
          "metadata": {
            "tags": []
          },
          "execution_count": 9
        }
      ]
    },
    {
      "cell_type": "markdown",
      "metadata": {
        "id": "kAXkU0vdjhyw"
      },
      "source": [
        "*Explicativa do que é CISP:* retirado em: [ISP Dados Abertos](http://www.ispdados.rj.gov.br/divisaoTerritorial.html)\n",
        "\n",
        "As Circunscrições Integradas de Segurança Pública - CISP, correspondem às áreas territoriais de atuação e responsabilidade conjunta das delegacias distritais da Secretaria de Estado de Polícia Civil (SEPOL) e das companhias integradas da Secretaria de Estado de Polícia Militar (SEPM). As CISP têm como princípio básico o conceito de que a responsabilidade pelo policiamento de uma subárea da companhia de Polícia Militar deverá coincidir com a circunscrição de uma delegacia de Polícia Civil. Nesse sentido, as CISP constituem a esfera de integração territorial, em nível operacional, das Companhias Integradas da SEPM com as Delegacias de Polícia da SEPOL. As CISP caracterizam, segundo este modelo de integração geográfica, a menor instância de apuração dos indicadores de criminalidade."
      ]
    },
    {
      "cell_type": "markdown",
      "metadata": {
        "id": "dyKgNX-OjF0c"
      },
      "source": [
        "Visualizando as 5 primeiras entradas e 5 últimos registros de nosso dataset:"
      ]
    },
    {
      "cell_type": "code",
      "metadata": {
        "colab": {
          "base_uri": "https://localhost:8080/",
          "height": 204
        },
        "id": "LLfxB-kSjKbM",
        "outputId": "bed209d8-1200-4af5-8aeb-eb5a7c25911a"
      },
      "source": [
        "# ver as 5 primeiras entradas do dataset\n",
        "df.head()"
      ],
      "execution_count": 11,
      "outputs": [
        {
          "output_type": "execute_result",
          "data": {
            "text/html": [
              "<div>\n",
              "<style scoped>\n",
              "    .dataframe tbody tr th:only-of-type {\n",
              "        vertical-align: middle;\n",
              "    }\n",
              "\n",
              "    .dataframe tbody tr th {\n",
              "        vertical-align: top;\n",
              "    }\n",
              "\n",
              "    .dataframe thead th {\n",
              "        text-align: right;\n",
              "    }\n",
              "</style>\n",
              "<table border=\"1\" class=\"dataframe\">\n",
              "  <thead>\n",
              "    <tr style=\"text-align: right;\">\n",
              "      <th></th>\n",
              "      <th>CISP</th>\n",
              "      <th>mes</th>\n",
              "      <th>vano</th>\n",
              "      <th>pol_militares_mortos_serv</th>\n",
              "      <th>pol_civis_mortos_serv</th>\n",
              "    </tr>\n",
              "  </thead>\n",
              "  <tbody>\n",
              "    <tr>\n",
              "      <th>0</th>\n",
              "      <td>1</td>\n",
              "      <td>1</td>\n",
              "      <td>2003</td>\n",
              "      <td>0</td>\n",
              "      <td>0</td>\n",
              "    </tr>\n",
              "    <tr>\n",
              "      <th>1</th>\n",
              "      <td>4</td>\n",
              "      <td>1</td>\n",
              "      <td>2003</td>\n",
              "      <td>0</td>\n",
              "      <td>0</td>\n",
              "    </tr>\n",
              "    <tr>\n",
              "      <th>2</th>\n",
              "      <td>5</td>\n",
              "      <td>1</td>\n",
              "      <td>2003</td>\n",
              "      <td>0</td>\n",
              "      <td>0</td>\n",
              "    </tr>\n",
              "    <tr>\n",
              "      <th>3</th>\n",
              "      <td>6</td>\n",
              "      <td>1</td>\n",
              "      <td>2003</td>\n",
              "      <td>0</td>\n",
              "      <td>0</td>\n",
              "    </tr>\n",
              "    <tr>\n",
              "      <th>4</th>\n",
              "      <td>7</td>\n",
              "      <td>1</td>\n",
              "      <td>2003</td>\n",
              "      <td>0</td>\n",
              "      <td>0</td>\n",
              "    </tr>\n",
              "  </tbody>\n",
              "</table>\n",
              "</div>"
            ],
            "text/plain": [
              "   CISP  mes  vano  pol_militares_mortos_serv  pol_civis_mortos_serv\n",
              "0     1    1  2003                          0                      0\n",
              "1     4    1  2003                          0                      0\n",
              "2     5    1  2003                          0                      0\n",
              "3     6    1  2003                          0                      0\n",
              "4     7    1  2003                          0                      0"
            ]
          },
          "metadata": {
            "tags": []
          },
          "execution_count": 11
        }
      ]
    },
    {
      "cell_type": "code",
      "metadata": {
        "colab": {
          "base_uri": "https://localhost:8080/",
          "height": 204
        },
        "id": "THfRMMl-jRMq",
        "outputId": "f06a77db-5478-470c-f9ae-88e7c63043e9"
      },
      "source": [
        "# ver as 5 últimas entradas do dataset\n",
        "df.tail()"
      ],
      "execution_count": 12,
      "outputs": [
        {
          "output_type": "execute_result",
          "data": {
            "text/html": [
              "<div>\n",
              "<style scoped>\n",
              "    .dataframe tbody tr th:only-of-type {\n",
              "        vertical-align: middle;\n",
              "    }\n",
              "\n",
              "    .dataframe tbody tr th {\n",
              "        vertical-align: top;\n",
              "    }\n",
              "\n",
              "    .dataframe thead th {\n",
              "        text-align: right;\n",
              "    }\n",
              "</style>\n",
              "<table border=\"1\" class=\"dataframe\">\n",
              "  <thead>\n",
              "    <tr style=\"text-align: right;\">\n",
              "      <th></th>\n",
              "      <th>CISP</th>\n",
              "      <th>mes</th>\n",
              "      <th>vano</th>\n",
              "      <th>pol_militares_mortos_serv</th>\n",
              "      <th>pol_civis_mortos_serv</th>\n",
              "    </tr>\n",
              "  </thead>\n",
              "  <tbody>\n",
              "    <tr>\n",
              "      <th>29363</th>\n",
              "      <td>159</td>\n",
              "      <td>3</td>\n",
              "      <td>2021</td>\n",
              "      <td>0</td>\n",
              "      <td>0</td>\n",
              "    </tr>\n",
              "    <tr>\n",
              "      <th>29364</th>\n",
              "      <td>165</td>\n",
              "      <td>3</td>\n",
              "      <td>2021</td>\n",
              "      <td>0</td>\n",
              "      <td>0</td>\n",
              "    </tr>\n",
              "    <tr>\n",
              "      <th>29365</th>\n",
              "      <td>166</td>\n",
              "      <td>3</td>\n",
              "      <td>2021</td>\n",
              "      <td>0</td>\n",
              "      <td>0</td>\n",
              "    </tr>\n",
              "    <tr>\n",
              "      <th>29366</th>\n",
              "      <td>167</td>\n",
              "      <td>3</td>\n",
              "      <td>2021</td>\n",
              "      <td>0</td>\n",
              "      <td>0</td>\n",
              "    </tr>\n",
              "    <tr>\n",
              "      <th>29367</th>\n",
              "      <td>168</td>\n",
              "      <td>3</td>\n",
              "      <td>2021</td>\n",
              "      <td>0</td>\n",
              "      <td>0</td>\n",
              "    </tr>\n",
              "  </tbody>\n",
              "</table>\n",
              "</div>"
            ],
            "text/plain": [
              "       CISP  mes  vano  pol_militares_mortos_serv  pol_civis_mortos_serv\n",
              "29363   159    3  2021                          0                      0\n",
              "29364   165    3  2021                          0                      0\n",
              "29365   166    3  2021                          0                      0\n",
              "29366   167    3  2021                          0                      0\n",
              "29367   168    3  2021                          0                      0"
            ]
          },
          "metadata": {
            "tags": []
          },
          "execution_count": 12
        }
      ]
    },
    {
      "cell_type": "markdown",
      "metadata": {
        "id": "MYmOKaaxkpnL"
      },
      "source": [
        "Antes de começarmos a analisar os nossos dados, vamos verificar a proporção de dados ausentes em nosso dataset."
      ]
    },
    {
      "cell_type": "code",
      "metadata": {
        "colab": {
          "base_uri": "https://localhost:8080/"
        },
        "id": "xmiI_Q_Qktdv",
        "outputId": "67a652d2-59eb-4ccc-a5dd-de8588416f21"
      },
      "source": [
        "# ver os valores faltantes das colunas\n",
        "(df.isnull().sum()/ df.shape[0]).sort_values(ascending=False)"
      ],
      "execution_count": 13,
      "outputs": [
        {
          "output_type": "execute_result",
          "data": {
            "text/plain": [
              "pol_civis_mortos_serv        0.0\n",
              "pol_militares_mortos_serv    0.0\n",
              "vano                         0.0\n",
              "mes                          0.0\n",
              "CISP                         0.0\n",
              "dtype: float64"
            ]
          },
          "metadata": {
            "tags": []
          },
          "execution_count": 13
        }
      ]
    },
    {
      "cell_type": "code",
      "metadata": {
        "id": "uzZNSXwglKMT"
      },
      "source": [
        "Perfeito! Não existem valores ausentes em nossos dados! Portanto, não vamos precisar de estimar valores para completar o dataset."
      ],
      "execution_count": null,
      "outputs": []
    },
    {
      "cell_type": "markdown",
      "metadata": {
        "id": "G6dnsNYm-41g"
      },
      "source": [
        "## Informações Estatísticas da Violência no Rio de Janeiro\n",
        "\n",
        "Nossos dados existem informações de policiais militar e civil, vamos verificar o resumo estatístico de nosso dataframe para começar nossa análise.\n",
        "\n"
      ]
    },
    {
      "cell_type": "code",
      "metadata": {
        "colab": {
          "base_uri": "https://localhost:8080/",
          "height": 297
        },
        "id": "YsgnmvBUl1rv",
        "outputId": "f0964c12-0a08-4eb2-9475-5f99ff7a3e55"
      },
      "source": [
        "# imprimir o resultado estatístico do DataFrame\n",
        "df.describe()"
      ],
      "execution_count": 14,
      "outputs": [
        {
          "output_type": "execute_result",
          "data": {
            "text/html": [
              "<div>\n",
              "<style scoped>\n",
              "    .dataframe tbody tr th:only-of-type {\n",
              "        vertical-align: middle;\n",
              "    }\n",
              "\n",
              "    .dataframe tbody tr th {\n",
              "        vertical-align: top;\n",
              "    }\n",
              "\n",
              "    .dataframe thead th {\n",
              "        text-align: right;\n",
              "    }\n",
              "</style>\n",
              "<table border=\"1\" class=\"dataframe\">\n",
              "  <thead>\n",
              "    <tr style=\"text-align: right;\">\n",
              "      <th></th>\n",
              "      <th>CISP</th>\n",
              "      <th>mes</th>\n",
              "      <th>vano</th>\n",
              "      <th>pol_militares_mortos_serv</th>\n",
              "      <th>pol_civis_mortos_serv</th>\n",
              "    </tr>\n",
              "  </thead>\n",
              "  <tbody>\n",
              "    <tr>\n",
              "      <th>count</th>\n",
              "      <td>29368.000000</td>\n",
              "      <td>29368.000000</td>\n",
              "      <td>29368.000000</td>\n",
              "      <td>29368.000000</td>\n",
              "      <td>29368.000000</td>\n",
              "    </tr>\n",
              "    <tr>\n",
              "      <th>mean</th>\n",
              "      <td>81.714826</td>\n",
              "      <td>6.440105</td>\n",
              "      <td>2011.762701</td>\n",
              "      <td>0.015084</td>\n",
              "      <td>0.002486</td>\n",
              "    </tr>\n",
              "    <tr>\n",
              "      <th>std</th>\n",
              "      <td>48.313314</td>\n",
              "      <td>3.469762</td>\n",
              "      <td>5.252909</td>\n",
              "      <td>0.139601</td>\n",
              "      <td>0.051807</td>\n",
              "    </tr>\n",
              "    <tr>\n",
              "      <th>min</th>\n",
              "      <td>1.000000</td>\n",
              "      <td>1.000000</td>\n",
              "      <td>2003.000000</td>\n",
              "      <td>0.000000</td>\n",
              "      <td>0.000000</td>\n",
              "    </tr>\n",
              "    <tr>\n",
              "      <th>25%</th>\n",
              "      <td>38.000000</td>\n",
              "      <td>3.000000</td>\n",
              "      <td>2007.000000</td>\n",
              "      <td>0.000000</td>\n",
              "      <td>0.000000</td>\n",
              "    </tr>\n",
              "    <tr>\n",
              "      <th>50%</th>\n",
              "      <td>78.000000</td>\n",
              "      <td>6.000000</td>\n",
              "      <td>2012.000000</td>\n",
              "      <td>0.000000</td>\n",
              "      <td>0.000000</td>\n",
              "    </tr>\n",
              "    <tr>\n",
              "      <th>75%</th>\n",
              "      <td>125.000000</td>\n",
              "      <td>9.000000</td>\n",
              "      <td>2016.000000</td>\n",
              "      <td>0.000000</td>\n",
              "      <td>0.000000</td>\n",
              "    </tr>\n",
              "    <tr>\n",
              "      <th>max</th>\n",
              "      <td>168.000000</td>\n",
              "      <td>12.000000</td>\n",
              "      <td>2021.000000</td>\n",
              "      <td>4.000000</td>\n",
              "      <td>2.000000</td>\n",
              "    </tr>\n",
              "  </tbody>\n",
              "</table>\n",
              "</div>"
            ],
            "text/plain": [
              "               CISP  ...  pol_civis_mortos_serv\n",
              "count  29368.000000  ...           29368.000000\n",
              "mean      81.714826  ...               0.002486\n",
              "std       48.313314  ...               0.051807\n",
              "min        1.000000  ...               0.000000\n",
              "25%       38.000000  ...               0.000000\n",
              "50%       78.000000  ...               0.000000\n",
              "75%      125.000000  ...               0.000000\n",
              "max      168.000000  ...               2.000000\n",
              "\n",
              "[8 rows x 5 columns]"
            ]
          },
          "metadata": {
            "tags": []
          },
          "execution_count": 14
        }
      ]
    },
    {
      "cell_type": "markdown",
      "metadata": {
        "id": "Vq57nPlgmTWF"
      },
      "source": [
        "Agora vamos verificar a média de policiais militares mortos:"
      ]
    },
    {
      "cell_type": "code",
      "metadata": {
        "colab": {
          "base_uri": "https://localhost:8080/"
        },
        "id": "rbrFO9uYmXYz",
        "outputId": "9d3fa6fc-db2e-4c13-8329-b43c1b82c167"
      },
      "source": [
        "# ver a média da variável policiais militares mortos\n",
        "mean_pm = df.pol_militares_mortos_serv.mean()\n",
        "print(round(mean_pm,2))"
      ],
      "execution_count": 16,
      "outputs": [
        {
          "output_type": "stream",
          "text": [
            "0.02\n"
          ],
          "name": "stdout"
        }
      ]
    },
    {
      "cell_type": "markdown",
      "metadata": {
        "id": "3vSHSqmDmtsW"
      },
      "source": [
        "Verificando a média de policiais civis mortos:"
      ]
    },
    {
      "cell_type": "code",
      "metadata": {
        "colab": {
          "base_uri": "https://localhost:8080/"
        },
        "id": "_CAyHk0Imwla",
        "outputId": "b254ef2f-99ca-465e-d74b-8a96e82d0cdf"
      },
      "source": [
        "# ver a média da variável policiais civis mortos\n",
        "mean_pc = df.pol_civis_mortos_serv.mean()\n",
        "print(round(mean_pc,3))"
      ],
      "execution_count": 18,
      "outputs": [
        {
          "output_type": "stream",
          "text": [
            "0.002\n"
          ],
          "name": "stdout"
        }
      ]
    },
    {
      "cell_type": "markdown",
      "metadata": {
        "id": "tbcXLPVAm7f_"
      },
      "source": [
        "Com o resultados podemos observar que a média de policiais militares mortos é quase 10x maior que a média de policiais civis!\n",
        "\n",
        "Agora vamos calcular a quantidade média de policiais mortos por CISP."
      ]
    },
    {
      "cell_type": "code",
      "metadata": {
        "colab": {
          "base_uri": "https://localhost:8080/"
        },
        "id": "OmMUVqEOnvdE",
        "outputId": "73d4f862-19fb-4ef9-9aa7-e57af0aa1bf2"
      },
      "source": [
        "#quantidade de CISP\n",
        "cispt = df.CISP.nunique();\n",
        "#quantidade de PM mortos\n",
        "pmm = df.pol_militares_mortos_serv.sum();\n",
        "pcm = df.pol_civis_mortos_serv.sum();\n",
        "\n",
        "maxpm = df.pol_militares_mortos_serv.max();\n",
        "maxpc = df.pol_civis_mortos_serv.max();\n",
        "#calculadno a média\n",
        "\n",
        "med = (pmm+pcm)/cispt\n",
        "\n",
        "print(\"A quantidade média de policiais mortos por CISP é de {} de 2003 a março de 2021\".format(med))\n",
        "print(\"A maior quantidade de PM que morreu em uma CISP foi de: {}\".format(maxpm))\n",
        "print(\"A maior quantidade de PC que morreu em uma CISP foi de: {}\".format(maxpc))"
      ],
      "execution_count": 38,
      "outputs": [
        {
          "output_type": "stream",
          "text": [
            "A quantidade média de policiais mortos por CISP é de 3.739130434782609 de 2003 a março de 2021\n",
            "A maior quantidade de PM que morreu em uma CISP foi de: 4\n",
            "A maior quantidade de PC que morreu em uma CISP foi de: 2\n"
          ],
          "name": "stdout"
        }
      ]
    },
    {
      "cell_type": "markdown",
      "metadata": {
        "id": "7WK0NBQZASKC"
      },
      "source": [
        "## Visualização de Dados\n",
        "\n",
        "Vamos agora visualizar o gráfico de morte dos policiais ao longo do tempo desde 2003 a março de 2021:\n"
      ]
    },
    {
      "cell_type": "code",
      "metadata": {
        "colab": {
          "base_uri": "https://localhost:8080/",
          "height": 282
        },
        "id": "QwQAQlGSqEoN",
        "outputId": "997d19fe-f0d8-4c0b-88c2-5ec83ead9d86"
      },
      "source": [
        "# plotar gráfico de linhas para pm\n",
        "df.pol_militares_mortos_serv.plot();\n",
        "\n",
        "print('Total de PM mortos: {}'.format(pmm))"
      ],
      "execution_count": 46,
      "outputs": [
        {
          "output_type": "stream",
          "text": [
            "Total de PM mortos: 443\n"
          ],
          "name": "stdout"
        },
        {
          "output_type": "display_data",
          "data": {
            "image/png": "[encoded data removed]",
            "text/plain": [
              "<Figure size 432x288 with 1 Axes>"
            ]
          },
          "metadata": {
            "tags": [],
            "needs_background": "light"
          }
        }
      ]
    },
    {
      "cell_type": "code",
      "metadata": {
        "colab": {
          "base_uri": "https://localhost:8080/",
          "height": 266
        },
        "id": "0aVcVcRBrAEG",
        "outputId": "b11e677e-0cb9-4193-8785-468c8aac1c41"
      },
      "source": [
        "df.pol_militares_mortos_serv.hist();"
      ],
      "execution_count": 47,
      "outputs": [
        {
          "output_type": "display_data",
          "data": {
            "image/png": "[encoded data removed]",
            "text/plain": [
              "<Figure size 432x288 with 1 Axes>"
            ]
          },
          "metadata": {
            "tags": [],
            "needs_background": "light"
          }
        }
      ]
    },
    {
      "cell_type": "code",
      "metadata": {
        "colab": {
          "base_uri": "https://localhost:8080/",
          "height": 282
        },
        "id": "qRgzUfJFqs9I",
        "outputId": "c92d76b2-9297-4d20-9ce5-3b27b8b1b374"
      },
      "source": [
        "# plotar gráfico de linhas para pc\n",
        "df.pol_civis_mortos_serv.plot();\n",
        "\n",
        "print('Total de PC mortos: {}'.format(pcm))"
      ],
      "execution_count": 44,
      "outputs": [
        {
          "output_type": "stream",
          "text": [
            "Total de PC mortos: 73\n"
          ],
          "name": "stdout"
        },
        {
          "output_type": "display_data",
          "data": {
            "image/png": "[encoded data removed]",
            "text/plain": [
              "<Figure size 432x288 with 1 Axes>"
            ]
          },
          "metadata": {
            "tags": [],
            "needs_background": "light"
          }
        }
      ]
    },
    {
      "cell_type": "code",
      "metadata": {
        "colab": {
          "base_uri": "https://localhost:8080/",
          "height": 265
        },
        "id": "clNJtLcJrLHT",
        "outputId": "13e4d6ed-0dc1-4911-d334-2a8a0b184e4f"
      },
      "source": [
        "df.pol_civis_mortos_serv.hist();"
      ],
      "execution_count": 48,
      "outputs": [
        {
          "output_type": "display_data",
          "data": {
            "image/png": "[encoded data removed]",
            "text/plain": [
              "<Figure size 432x288 with 1 Axes>"
            ]
          },
          "metadata": {
            "tags": [],
            "needs_background": "light"
          }
        }
      ]
    },
    {
      "cell_type": "markdown",
      "metadata": {
        "id": "LCsiXvM3BcsO"
      },
      "source": [
        "## Conclusão\n",
        "\n",
        "Com esses dados, podemos concluir que o policial militar arrisca a sua vida mais que o policial civil durante o serviço na cidade do Rio de Janeiro e desde 2003 é possível notar que quase todos meses teve morte de policial militar em alguma CISP no estado."
      ]
    },
    {
      "cell_type": "code",
      "metadata": {
        "id": "UDQA502_hAwI"
      },
      "source": [
        ""
      ],
      "execution_count": null,
      "outputs": []
    }
  ]
}